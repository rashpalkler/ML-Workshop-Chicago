{
 "cells": [
  {
   "cell_type": "code",
   "execution_count": 1,
   "metadata": {},
   "outputs": [],
   "source": [
    "## Notebook for ship detection model"
   ]
  },
  {
   "cell_type": "code",
   "execution_count": 56,
   "metadata": {},
   "outputs": [
    {
     "name": "stdout",
     "output_type": "stream",
     "text": [
      "arn:aws:iam::023375022819:role/service-role/AmazonSageMaker-ExecutionRole-20181029T121824\n",
      "811284229777.dkr.ecr.us-east-1.amazonaws.com/object-detection:latest\n",
      "000155de5.jpg\n",
      "CPU times: user 3.26 s, sys: 0 ns, total: 3.26 s\n",
      "Wall time: 3.29 s\n"
     ]
    }
   ],
   "source": [
    "%%time\n",
    "import sagemaker\n",
    "from sagemaker import get_execution_role\n",
    "import os\n",
    "import urllib.request\n",
    "import pandas as pd \n",
    "from PIL import Image\n",
    "\n",
    "role = get_execution_role()\n",
    "print(role)\n",
    "sess = sagemaker.Session()\n",
    "\n",
    "\n",
    "# bucket = 'vision-group-chicago' # custom bucket name.\n",
    "# # bucket = sess.default_bucket()\n",
    "# prefix = 'DEMO-Pavarotti'\n",
    "\n",
    "\n",
    "\n",
    "from sagemaker.amazon.amazon_estimator import get_image_uri\n",
    "\n",
    "training_image = get_image_uri(sess.boto_region_name, 'object-detection', repo_version=\"latest\")\n",
    "print (training_image)\n",
    "\n",
    "\n",
    "os.chdir(\"/home/ec2-user/SageMaker\")\n",
    "\n",
    "# %%bash\n",
    "# #Create folders to store the data and annotation files\n",
    "# mkdir generated train train_annotation validation validation_annotation\n",
    "\n",
    "mapping_csv = pd.read_csv(\"./bbox_dictionary.csv\")\n",
    "mapping_csv.columns = ['file','bbox']\n",
    "# print(mapping_csv.head(100))\n",
    "# mapping_csv.size()\n",
    "\n",
    "bbox_dict = dict()\n",
    "for index,row in mapping_csv.iterrows():\n",
    "    bbox_dict[row['file']] = row['bbox']\n",
    "    \n",
    "\n",
    "print(list(bbox_dict.keys())[0])\n",
    "\n",
    "    \n",
    "    \n"
   ]
  },
  {
   "cell_type": "code",
   "execution_count": 38,
   "metadata": {},
   "outputs": [
    {
     "name": "stdout",
     "output_type": "stream",
     "text": [
      "['691', '469', '705', '483']\n",
      "768 768\n"
     ]
    }
   ],
   "source": [
    "# type(bbox_dict['02be1b83c.jpg'])\n",
    "# trial_var = bbox_dict['02be1b83c.jpg']\n",
    "# trial_var = trial_var.rstrip(\")]\")\n",
    "# trial_var = trial_var.lstrip(\"([\")\n",
    "# trial_var = trial_var.split(\", \")\n",
    "# print(trial_var)\n",
    "# bbox_dict_cleaned = dict()\n",
    "# for key in bbox_dict.keys():\n",
    "#     tmp_str = bbox_dict[key]\n",
    "# #     tmp_str = tmp_str.rstrip(\")]\")\n",
    "# #     tmp_str = tmp_str.lstrip(\"([\")\n",
    "# #     tmp_str = tmp_str.split(\",\")\n",
    "# #     tmp_str = []\n",
    "# #     tmp_str = [int(ele) for ele in tmp_str]\n",
    "#     print(tmp_str)\n",
    "#     print('\\n')\n",
    "    \n",
    "# #     bbox_dict_cleaned[key] = tmp_str\n",
    "\n",
    "# filepath = '/home/ec2-user/SageMaker/trainimages/009e22bfb.jpg'\n",
    "\n",
    "# with Image.open(filepath) as img:\n",
    "#     width, height = img.size\n",
    "\n",
    "# print(width,height)\n",
    "\n"
   ]
  },
  {
   "cell_type": "code",
   "execution_count": 79,
   "metadata": {},
   "outputs": [
    {
     "ename": "FileNotFoundError",
     "evalue": "[Errno 2] No such file or directory: '/home/ec2-user/SageMaker/trainimages/0190215b2.jpg'",
     "output_type": "error",
     "traceback": [
      "\u001b[0;31m---------------------------------------------------------------------------\u001b[0m",
      "\u001b[0;31mFileNotFoundError\u001b[0m                         Traceback (most recent call last)",
      "\u001b[0;32m<ipython-input-79-20da633984a8>\u001b[0m in \u001b[0;36m<module>\u001b[0;34m()\u001b[0m\n\u001b[1;32m     38\u001b[0m     \u001b[0mtmpDict\u001b[0m\u001b[0;34m[\u001b[0m\u001b[0;34m\"file\"\u001b[0m\u001b[0;34m]\u001b[0m \u001b[0;34m=\u001b[0m \u001b[0mfile\u001b[0m\u001b[0;34m\u001b[0m\u001b[0m\n\u001b[1;32m     39\u001b[0m     \u001b[0mfilepath\u001b[0m \u001b[0;34m=\u001b[0m \u001b[0;34m'/home/ec2-user/SageMaker/trainimages/'\u001b[0m \u001b[0;34m+\u001b[0m \u001b[0mfile\u001b[0m\u001b[0;34m\u001b[0m\u001b[0m\n\u001b[0;32m---> 40\u001b[0;31m     \u001b[0;32mwith\u001b[0m \u001b[0mImage\u001b[0m\u001b[0;34m.\u001b[0m\u001b[0mopen\u001b[0m\u001b[0;34m(\u001b[0m\u001b[0mfilepath\u001b[0m\u001b[0;34m)\u001b[0m \u001b[0;32mas\u001b[0m \u001b[0mimg\u001b[0m\u001b[0;34m:\u001b[0m\u001b[0;34m\u001b[0m\u001b[0m\n\u001b[0m\u001b[1;32m     41\u001b[0m         \u001b[0mwidth\u001b[0m\u001b[0;34m,\u001b[0m \u001b[0mheight\u001b[0m \u001b[0;34m=\u001b[0m \u001b[0mimg\u001b[0m\u001b[0;34m.\u001b[0m\u001b[0msize\u001b[0m\u001b[0;34m\u001b[0m\u001b[0m\n\u001b[1;32m     42\u001b[0m \u001b[0;34m\u001b[0m\u001b[0m\n",
      "\u001b[0;32m~/anaconda3/envs/mxnet_p36/lib/python3.6/site-packages/PIL/Image.py\u001b[0m in \u001b[0;36mopen\u001b[0;34m(fp, mode)\u001b[0m\n\u001b[1;32m   2541\u001b[0m \u001b[0;34m\u001b[0m\u001b[0m\n\u001b[1;32m   2542\u001b[0m     \u001b[0;32mif\u001b[0m \u001b[0mfilename\u001b[0m\u001b[0;34m:\u001b[0m\u001b[0;34m\u001b[0m\u001b[0m\n\u001b[0;32m-> 2543\u001b[0;31m         \u001b[0mfp\u001b[0m \u001b[0;34m=\u001b[0m \u001b[0mbuiltins\u001b[0m\u001b[0;34m.\u001b[0m\u001b[0mopen\u001b[0m\u001b[0;34m(\u001b[0m\u001b[0mfilename\u001b[0m\u001b[0;34m,\u001b[0m \u001b[0;34m\"rb\"\u001b[0m\u001b[0;34m)\u001b[0m\u001b[0;34m\u001b[0m\u001b[0m\n\u001b[0m\u001b[1;32m   2544\u001b[0m         \u001b[0mexclusive_fp\u001b[0m \u001b[0;34m=\u001b[0m \u001b[0;32mTrue\u001b[0m\u001b[0;34m\u001b[0m\u001b[0m\n\u001b[1;32m   2545\u001b[0m \u001b[0;34m\u001b[0m\u001b[0m\n",
      "\u001b[0;31mFileNotFoundError\u001b[0m: [Errno 2] No such file or directory: '/home/ec2-user/SageMaker/trainimages/0190215b2.jpg'"
     ]
    }
   ],
   "source": [
    "## make JSONS for the training set \n",
    "## JSON Format ##\n",
    "import json\n",
    "#os.chdir(\"/home/ec2-user/SageMaker/trainimages_annotations\")\n",
    "#sampleJSON = {\"file\": \"000000008629.jpg\", \"image_size\": [{\"width\": 640, \"height\": 640, \"depth\": 3}], \"annotations\": [{\"class_id\": 42, \"top\": 284, \"left\": 592, \"width\": 29, \"height\": 53}, {\"class_id\": 53, \"top\": 430, \"left\": 435, \"width\": 169, \"height\": 149}, {\"class_id\": 53, \"top\": 231, \"left\": 429, \"width\": 192, \"height\": 164}, {\"class_id\": 53, \"top\": 434, \"left\": 231, \"width\": 192, \"height\": 191}, {\"class_id\": 53, \"top\": 425, \"left\": 44, \"width\": 138, \"height\": 176}, {\"class_id\": 53, \"top\": 13, \"left\": 21, \"width\": 393, \"height\": 331}, {\"class_id\": 53, \"top\": 20, \"left\": 430, \"width\": 191, \"height\": 168}], \"categories\": [{\"class_id\": 48, \"name\": \"fork\"}, {\"class_id\": 59, \"name\": \"pizza\"}, {\"class_id\": 59, \"name\": \"pizza\"}, {\"class_id\": 59, \"name\": \"pizza\"}, {\"class_id\": 59, \"name\": \"pizza\"}, {\"class_id\": 59, \"name\": \"pizza\"}, {\"class_id\": 59, \"name\": \"pizza\"}]}\n",
    "#sampleJSON = {\"file\": \"000000082812.jpg\", \"image_size\": [{\"width\": 640, \"height\": 360, \"depth\": 3}], \"annotations\": [{\"class_id\": 6, \"top\": 224, \"left\": 0, \"width\": 325, \"height\": 130}, {\"class_id\": 0, \"top\": 228, \"left\": 347, \"width\": 74, \"height\": 131}, {\"class_id\": 0, \"top\": 252, \"left\": 303, \"width\": 37, \"height\": 105}, {\"class_id\": 0, \"top\": 262, \"left\": 248, \"width\": 41, \"height\": 96}, {\"class_id\": 0, \"top\": 223, \"left\": 415, \"width\": 38, \"height\": 60}, {\"class_id\": 0, \"top\": 241, \"left\": 327, \"width\": 23, \"height\": 74}, {\"class_id\": 24, \"top\": 272, \"left\": 262, \"width\": 25, \"height\": 44}, {\"class_id\": 24, \"top\": 264, \"left\": 347, \"width\": 44, \"height\": 56}, {\"class_id\": 0, \"top\": 175, \"left\": 588, \"width\": 51, \"height\": 133}, {\"class_id\": 0, \"top\": 209, \"left\": 479, \"width\": 32, \"height\": 75}, {\"class_id\": 26, \"top\": 270, \"left\": 300, \"width\": 22, \"height\": 47}, {\"class_id\": 28, \"top\": 272, \"left\": 423, \"width\": 53, \"height\": 82}, {\"class_id\": 28, \"top\": 316, \"left\": 240, \"width\": 32, \"height\": 42}, {\"class_id\": 28, \"top\": 248, \"left\": 408, \"width\": 9, \"height\": 14}, {\"class_id\": 0, \"top\": 193, \"left\": 504, \"width\": 68, \"height\": 129}, {\"class_id\": 0, \"top\": 224, \"left\": 390, \"width\": 20, \"height\": 42}, {\"class_id\": 0, \"top\": 223, \"left\": 377, \"width\": 19, \"height\": 40}, {\"class_id\": 24, \"top\": 251, \"left\": 333, \"width\": 28, \"height\": 31}, {\"class_id\": 26, \"top\": 303, \"left\": 341, \"width\": 22, \"height\": 35}, {\"class_id\": 28, \"top\": 250, \"left\": 476, \"width\": 24, \"height\": 33}, {\"class_id\": 28, \"top\": 266, \"left\": 506, \"width\": 38, \"height\": 45}, {\"class_id\": 28, \"top\": 319, \"left\": 303, \"width\": 14, \"height\": 40}, {\"class_id\": 28, \"top\": 244, \"left\": 445, \"width\": 18, \"height\": 28}, {\"class_id\": 0, \"top\": 202, \"left\": 454, \"width\": 30, \"height\": 65}], \"categories\": [{\"class_id\": 7, \"name\": \"train\"}, {\"class_id\": 1, \"name\": \"person\"}, {\"class_id\": 1, \"name\": \"person\"}, {\"class_id\": 1, \"name\": \"person\"}, {\"class_id\": 1, \"name\": \"person\"}, {\"class_id\": 1, \"name\": \"person\"}, {\"class_id\": 27, \"name\": \"backpack\"}, {\"class_id\": 27, \"name\": \"backpack\"}, {\"class_id\": 1, \"name\": \"person\"}, {\"class_id\": 1, \"name\": \"person\"}, {\"class_id\": 31, \"name\": \"handbag\"}, {\"class_id\": 33, \"name\": \"suitcase\"}, {\"class_id\": 33, \"name\": \"suitcase\"}, {\"class_id\": 33, \"name\": \"suitcase\"}, {\"class_id\": 1, \"name\": \"person\"}, {\"class_id\": 1, \"name\": \"person\"}, {\"class_id\": 1, \"name\": \"person\"}, {\"class_id\": 27, \"name\": \"backpack\"}, {\"class_id\": 31, \"name\": \"handbag\"}, {\"class_id\": 33, \"name\": \"suitcase\"}, {\"class_id\": 33, \"name\": \"suitcase\"}, {\"class_id\": 33, \"name\": \"suitcase\"}, {\"class_id\": 33, \"name\": \"suitcase\"}, {\"class_id\": 1, \"name\": \"person\"}]}\n",
    "#train_files = os.listdir(\"/home/ec2-user/SageMaker/trainimages\")\n",
    "#print(train_files)\n",
    "#len(bbox_dict)\n",
    "# print(bbox_dict['000155de5.jpg'])\n",
    "\n",
    "### B-BOX CSV Cleaning ###\n",
    "\n",
    "bbox_dict_clean = dict()\n",
    "for key in bbox_dict:\n",
    "    tmp = bbox_dict[key] \n",
    "    tmp = tmp.strip('[')\n",
    "    tmp = tmp.strip(']')\n",
    "    tmp = tmp.split('), (')\n",
    "    tmp = [ele.strip('(') for ele in tmp]\n",
    "    tmp = [ele.strip(')') for ele in tmp]\n",
    "    tmp = [ele.split(', ') for ele in tmp]\n",
    "    tmp = [[int(temp) for temp in ele] for ele in tmp]\n",
    "    tmpNew = [[ele[0],ele[1],ele[2]-ele[0],ele[3]-ele[1]] for ele in tmp]\n",
    "    bbox_dict_clean[key] = tmpNew\n",
    "\n",
    "\n",
    "i=0\n",
    "base_folder = '/home/ec2-user/SageMaker/trainimages_annotation'\n",
    "for file in list(bbox_dict_clean.keys()):\n",
    "    bbox = list()\n",
    "    try:\n",
    "        bbox = bbox_dict_clean[file]\n",
    "    except KeyError:\n",
    "        continue\n",
    "    \n",
    "    tmpDict = dict()\n",
    "    tmpDict[\"file\"] = file\n",
    "#     filepath = '/home/ec2-user/SageMaker/trainimages/' + file\n",
    "#     with Image.open(filepath) as img:\n",
    "#         width, height = img.size\n",
    "\n",
    "#     width, height = img.size\n",
    "    tmpDict[\"image_size\"] = list()\n",
    "    tmpDict[\"image_size\"] = [{\"width\":768, \"height\":768,\"depth\":3}]\n",
    "    \n",
    "    annotations = []\n",
    "    for ele in bbox:\n",
    "        annotations.append({\"class_id\":1,\"top\":ele[0],\"left\":ele[1],\"width\":ele[3],\"height\":ele[2]})\n",
    "\n",
    "\n",
    "    tmpDict['annotations'] = annotations\n",
    "    tmpDict['categories'] = [{'class_id':1,\"name\":\"ship\"}]\n",
    "    jsonFile = file.split('.jpg')[0] + '.json'\n",
    "    with open(os.path.join(base_folder,jsonFile),'w') as p:\n",
    "        json.dump(tmpDict,p)\n",
    "        i=i+1\n"
   ]
  },
  {
   "cell_type": "code",
   "execution_count": 52,
   "metadata": {},
   "outputs": [],
   "source": [
    "# print(sampleJSON['file'])\n",
    "# print(sampleJSON.keys())\n",
    "# print(sampleJSON['annotations'])\n",
    "# print(sampleJSON['categories'])\n",
    "\n",
    "\n",
    "bucket = 'vision-group-chicago' # custom bucket name.\n",
    "# bucket = sess.default_bucket()\n",
    "prefix = 'DEMO-Pavarotti'"
   ]
  },
  {
   "cell_type": "code",
   "execution_count": null,
   "metadata": {},
   "outputs": [],
   "source": []
  }
 ],
 "metadata": {
  "kernelspec": {
   "display_name": "conda_mxnet_p36",
   "language": "python",
   "name": "conda_mxnet_p36"
  },
  "language_info": {
   "codemirror_mode": {
    "name": "ipython",
    "version": 3
   },
   "file_extension": ".py",
   "mimetype": "text/x-python",
   "name": "python",
   "nbconvert_exporter": "python",
   "pygments_lexer": "ipython3",
   "version": "3.6.5"
  }
 },
 "nbformat": 4,
 "nbformat_minor": 2
}
